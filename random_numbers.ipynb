{
 "cells": [
  {
   "cell_type": "code",
   "execution_count": 1,
   "id": "8806b257",
   "metadata": {},
   "outputs": [],
   "source": [
    "import random"
   ]
  },
  {
   "cell_type": "code",
   "execution_count": 2,
   "id": "739107a3",
   "metadata": {},
   "outputs": [
    {
     "data": {
      "text/plain": [
       "0.8642953495706341"
      ]
     },
     "execution_count": 2,
     "metadata": {},
     "output_type": "execute_result"
    }
   ],
   "source": [
    "random.random()"
   ]
  },
  {
   "cell_type": "code",
   "execution_count": 4,
   "id": "3fa4d5f1",
   "metadata": {},
   "outputs": [
    {
     "data": {
      "text/plain": [
       "-8"
      ]
     },
     "execution_count": 4,
     "metadata": {},
     "output_type": "execute_result"
    }
   ],
   "source": [
    "random.randint(-10,10)"
   ]
  },
  {
   "cell_type": "code",
   "execution_count": 5,
   "id": "224bb822",
   "metadata": {},
   "outputs": [
    {
     "data": {
      "text/plain": [
       "-5"
      ]
     },
     "execution_count": 5,
     "metadata": {},
     "output_type": "execute_result"
    }
   ],
   "source": [
    "random.randrange(-9,9,2)"
   ]
  },
  {
   "cell_type": "code",
   "execution_count": 6,
   "id": "988bae22",
   "metadata": {},
   "outputs": [
    {
     "data": {
      "text/plain": [
       "-3.203230136025727"
      ]
     },
     "execution_count": 6,
     "metadata": {},
     "output_type": "execute_result"
    }
   ],
   "source": [
    "random.uniform(-10,10)"
   ]
  },
  {
   "cell_type": "code",
   "execution_count": 9,
   "id": "67c71967",
   "metadata": {},
   "outputs": [
    {
     "data": {
      "text/plain": [
       "[-65.81975682223299,\n",
       " -85.11409047637733,\n",
       " 41.98041714063579,\n",
       " 14.249238584243736,\n",
       " -86.88507929732565,\n",
       " -55.30392855369669,\n",
       " 35.952614544118546,\n",
       " 31.73897983585973,\n",
       " 6.761594465948634,\n",
       " -52.110029316153934]"
      ]
     },
     "execution_count": 9,
     "metadata": {},
     "output_type": "execute_result"
    }
   ],
   "source": [
    "x = 1\n",
    "latitudes = []\n",
    "while x < 11:\n",
    "    random_lat = random.randint(-90, 89) + random.random()\n",
    "    latitudes.append(random_lat)\n",
    "    x += 1\n",
    "latitudes"
   ]
  },
  {
   "cell_type": "code",
   "execution_count": 10,
   "id": "17f98286",
   "metadata": {},
   "outputs": [],
   "source": [
    "# Import the NumPy module.\n",
    "import numpy as np"
   ]
  },
  {
   "cell_type": "code",
   "execution_count": 11,
   "id": "7c8db8a7",
   "metadata": {},
   "outputs": [
    {
     "data": {
      "text/plain": [
       "-31.343948351492315"
      ]
     },
     "execution_count": 11,
     "metadata": {},
     "output_type": "execute_result"
    }
   ],
   "source": [
    "np.random.uniform(-90.000, 90.000)"
   ]
  },
  {
   "cell_type": "code",
   "execution_count": 12,
   "id": "5b6d07b5",
   "metadata": {},
   "outputs": [
    {
     "data": {
      "text/plain": [
       "array([-55.00588053, -85.12418257, -27.45870606,  49.52830679,\n",
       "       -81.5388411 ,  88.02558092,  58.67369803,  73.29944903,\n",
       "        -9.47112247,  49.14350292,  24.34868029,   6.00783423,\n",
       "       -83.80245698,  21.01549306, -34.83615215,  37.8761677 ,\n",
       "        82.39566033,  85.16082761, -38.54554749, -79.18585554,\n",
       "       -56.53169519,  24.7536384 ,  83.62815241,  76.67904258,\n",
       "        59.7855593 ,  61.79649794,  35.65995017,  73.53009089,\n",
       "       -26.42324182, -75.98281352, -23.30834341, -77.33157213,\n",
       "        43.01614821,  -4.80127904, -62.72675128,  74.76553484,\n",
       "        82.39523288, -76.86564882,  17.02066883, -63.10046549,\n",
       "        -4.04915047, -82.25759793, -83.75438326, -66.2748486 ,\n",
       "        29.55716019, -87.31822044,  66.31047427, -85.01999174,\n",
       "        -3.08841017, -17.67291404])"
      ]
     },
     "execution_count": 12,
     "metadata": {},
     "output_type": "execute_result"
    }
   ],
   "source": [
    "np.random.uniform(-90.000, 90.000, size=50)"
   ]
  },
  {
   "cell_type": "code",
   "execution_count": 16,
   "id": "c9ebd6d1",
   "metadata": {},
   "outputs": [],
   "source": [
    "# Import timeit.\n",
    "import timeit"
   ]
  },
  {
   "cell_type": "code",
   "execution_count": 17,
   "id": "f9cf57bc",
   "metadata": {},
   "outputs": [
    {
     "name": "stdout",
     "output_type": "stream",
     "text": [
      "12.6 µs ± 153 ns per loop (mean ± std. dev. of 7 runs, 100,000 loops each)\n"
     ]
    }
   ],
   "source": [
    "%timeit np.random.uniform(-90.000, 90.000, size=1500)"
   ]
  },
  {
   "cell_type": "code",
   "execution_count": 18,
   "id": "fb25c9c3",
   "metadata": {},
   "outputs": [
    {
     "name": "stdout",
     "output_type": "stream",
     "text": [
      "1.36 ms ± 23.3 µs per loop (mean ± std. dev. of 7 runs, 1,000 loops each)\n"
     ]
    }
   ],
   "source": [
    "def latitudes(size):\n",
    "    latitudes = []\n",
    "    x = 0\n",
    "    while x < (size):\n",
    "        random_lat = random.randint(-90, 90) + random.random()\n",
    "        latitudes.append(random_lat)\n",
    "        x += 1\n",
    "    return latitudes\n",
    "# Call the function with 1500.\n",
    "%timeit latitudes(1500)"
   ]
  },
  {
   "cell_type": "code",
   "execution_count": null,
   "id": "573eab2d",
   "metadata": {},
   "outputs": [],
   "source": []
  }
 ],
 "metadata": {
  "kernelspec": {
   "display_name": "PythonData",
   "language": "python",
   "name": "pythondata"
  },
  "language_info": {
   "codemirror_mode": {
    "name": "ipython",
    "version": 3
   },
   "file_extension": ".py",
   "mimetype": "text/x-python",
   "name": "python",
   "nbconvert_exporter": "python",
   "pygments_lexer": "ipython3",
   "version": "3.9.12"
  }
 },
 "nbformat": 4,
 "nbformat_minor": 5
}
